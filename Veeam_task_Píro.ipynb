{
 "cells": [
  {
   "cell_type": "markdown",
   "id": "193a6760",
   "metadata": {},
   "source": [
    "### Import modules "
   ]
  },
  {
   "cell_type": "code",
   "execution_count": 1,
   "id": "0335481e",
   "metadata": {},
   "outputs": [],
   "source": [
    "import os \n",
    "import shutil \n",
    "import logging \n",
    "import time\n",
    "from datetime import datetime"
   ]
  },
  {
   "cell_type": "markdown",
   "id": "ba7bb6df",
   "metadata": {},
   "source": [
    "### Create functions "
   ]
  },
  {
   "cell_type": "code",
   "execution_count": 2,
   "id": "24f9579f",
   "metadata": {
    "scrolled": true
   },
   "outputs": [],
   "source": [
    "def setup_logging(log_file):\n",
    "    '''Create a logger and set it´s parameters'''\n",
    "    \n",
    "    # Create logger\n",
    "    logger = logging.getLogger()\n",
    "    logger.setLevel(logging.DEBUG) # set the scale of log messages. \n",
    "\n",
    "    # Create console handler \n",
    "    log_records_handler = logging.StreamHandler() # creates a handler that sends log records to a stream \n",
    "    log_records_handler.setLevel(logging.DEBUG)\n",
    "\n",
    "    # Create file handler \n",
    "    file_handler = logging.FileHandler(log_file, encoding='utf-8')  # Set encoding 'utf-8'\n",
    "    file_handler.setLevel(logging.DEBUG)\n",
    "\n",
    "    # Create and set formatter\n",
    "    formatter = logging.Formatter('%(asctime)s - %(message)s', datefmt='%Y-%m-%d %H:%M:%S') # specify formates\n",
    "    log_records_handler.setFormatter(formatter)\n",
    "    file_handler.setFormatter(formatter)\n",
    "\n",
    "    # Add handlers to logger\n",
    "    logger.addHandler(log_records_handler)\n",
    "    logger.addHandler(file_handler)\n",
    "\n",
    "def synchronize_folders(source_folder, replica_folder):\n",
    "    '''Function to synchronize files'''\n",
    "    # if replica folder does not exist, create it\n",
    "    if not os.path.exists(replica_folder):\n",
    "        os.makedirs(replica_folder)\n",
    "\n",
    "    # Iterate through all files and subdirectories in the source folder\n",
    "    for item in os.listdir(source_folder):\n",
    "        source_item = os.path.join(source_folder, item)\n",
    "        replica_item = os.path.join(replica_folder, item)\n",
    "\n",
    "        # If it's a file, copy it to the replica \n",
    "        if os.path.isfile(source_item):\n",
    "            if not os.path.exists(replica_item) or \\\n",
    "                    os.stat(source_item).st_mtime - os.stat(replica_item).st_mtime > 1: # if the modification time > than 1 second\n",
    "                shutil.copy2(source_item, replica_item)\n",
    "                logging.info(f\"File copied: {source_item} -> {replica_item}\")\n",
    "                \n",
    "        # If it's a directory, synchronize it via inner calling of the same function\n",
    "        elif os.path.isdir(source_item):\n",
    "            # inner calling of the same function \n",
    "            synchronize_folders(source_item, replica_item)\n",
    "\n",
    "    # Delete any files or directories in the replica folder that don't exist in the source folder\n",
    "    for item in os.listdir(replica_folder):\n",
    "        replica_item = os.path.join(replica_folder, item)\n",
    "        source_item = os.path.join(source_folder, item)\n",
    "\n",
    "        # If the item exists in replica but not in source, delete the item\n",
    "        if not os.path.exists(source_item):\n",
    "            if os.path.isfile(replica_item):\n",
    "                os.remove(replica_item)\n",
    "                logging.info(f\"File removed: {replica_item}\")\n",
    "            elif os.path.isdir(replica_item):\n",
    "                shutil.rmtree(replica_item)\n",
    "                logging.info(f\"Directory removed: {replica_item}\")\n",
    "\n",
    "def main(source_folder, replica_folder, interval, log_file):\n",
    "    '''Call all functions together\n",
    "    Runs forever if not interupted by keyboard input.'''\n",
    "    setup_logging(log_file)\n",
    "    logging.info(\"Starting synchronization process...\")\n",
    "\n",
    "    try:\n",
    "        while True:\n",
    "            synchronize_folders(source_folder, replica_folder)\n",
    "            logging.info(\"Folders synchronized successfully.\")\n",
    "            time.sleep(interval)\n",
    "            \n",
    "    # Keyboard Interupt - press Ctrl+C in the terminal         \n",
    "    except KeyboardInterrupt:\n",
    "        logging.info(\"Synchronization process stopped by user.\")"
   ]
  },
  {
   "cell_type": "markdown",
   "id": "393cabab",
   "metadata": {},
   "source": [
    "### Insert interval and file paths   "
   ]
  },
  {
   "cell_type": "code",
   "execution_count": 2,
   "id": "ede80016",
   "metadata": {},
   "outputs": [
    {
     "name": "stdout",
     "output_type": "stream",
     "text": [
      "Insert synchronization interval in seconds:3600\n",
      "Insert source folder path:blab\n",
      "Insert replica folder path:blal\n",
      "Insert log file path:blal\n"
     ]
    }
   ],
   "source": [
    "# synchronization interval (in seconds) BY DEFAULT\n",
    "interval = input('Insert synchronization interval in seconds:')  \n",
    "\n",
    "# SET the folders\n",
    "source_folder = input('Insert source folder path:')  \n",
    "replica_folder = input('Insert replica folder path:')  \n",
    "\n",
    "# Set the log file (like: \"sync_logger.txt\")\n",
    "log_file = input('Insert log file path:')"
   ]
  },
  {
   "cell_type": "markdown",
   "id": "7ed2ba81",
   "metadata": {},
   "source": [
    "### Run the program "
   ]
  },
  {
   "cell_type": "code",
   "execution_count": null,
   "id": "bf585089",
   "metadata": {},
   "outputs": [
    {
     "name": "stderr",
     "output_type": "stream",
     "text": [
      "2024-02-26 15:52:34 - Starting synchronization process...\n",
      "2024-02-26 15:52:34 - File copied: C:/Users/Matěj/Desktop/My_source\\matej_1\\factorials.png -> C:/Users/Matěj/Desktop/My_replica\\matej_1\\factorials.png\n",
      "2024-02-26 15:52:34 - File copied: C:/Users/Matěj/Desktop/My_source\\matej_1\\Matej_2\\test_2.txt -> C:/Users/Matěj/Desktop/My_replica\\matej_1\\Matej_2\\test_2.txt\n",
      "2024-02-26 15:52:34 - File copied: C:/Users/Matěj/Desktop/My_source\\náklady byt 2023.png -> C:/Users/Matěj/Desktop/My_replica\\náklady byt 2023.png\n",
      "2024-02-26 15:52:35 - File copied: C:/Users/Matěj/Desktop/My_source\\test_1.txt -> C:/Users/Matěj/Desktop/My_replica\\test_1.txt\n",
      "2024-02-26 15:52:35 - Folders synchronized successfully.\n"
     ]
    }
   ],
   "source": [
    "if __name__ == \"__main__\":\n",
    "    main(source_folder, replica_folder, interval, log_file)"
   ]
  },
  {
   "cell_type": "code",
   "execution_count": null,
   "id": "2586a10e",
   "metadata": {},
   "outputs": [],
   "source": []
  }
 ],
 "metadata": {
  "kernelspec": {
   "display_name": "Python 3 (ipykernel)",
   "language": "python",
   "name": "python3"
  },
  "language_info": {
   "codemirror_mode": {
    "name": "ipython",
    "version": 3
   },
   "file_extension": ".py",
   "mimetype": "text/x-python",
   "name": "python",
   "nbconvert_exporter": "python",
   "pygments_lexer": "ipython3",
   "version": "3.9.7"
  }
 },
 "nbformat": 4,
 "nbformat_minor": 5
}
